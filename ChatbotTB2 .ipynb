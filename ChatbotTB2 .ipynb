{
  "nbformat": 4,
  "nbformat_minor": 0,
  "metadata": {
    "colab": {
      "name": "ChatbotTB2.ipynb",
      "provenance": [],
      "collapsed_sections": []
    },
    "kernelspec": {
      "name": "python3",
      "display_name": "Python 3"
    },
    "language_info": {
      "name": "python"
    }
  },
  "cells": [
    {
      "cell_type": "markdown",
      "metadata": {
        "id": "YM_iLxeSH03r"
      },
      "source": [
        "#**Tugas Besar 2**\n",
        "#### Aldy Erviendri (41519010137)\n",
        "#### Enrico Saputra (41518010188)\n",
        "#### Rayvaldo Prawira Manik (41518210025)\n",
        "#------------------------------\n",
        "###Disini kami membuat chatbot dengan menggunakan data korpus oleh chatterbot \n",
        "\n"
      ]
    },
    {
      "cell_type": "code",
      "metadata": {
        "colab": {
          "base_uri": "https://localhost:8080/"
        },
        "id": "7VaalYpdABk1",
        "outputId": "17116829-26bf-44f8-d4e5-e58e3497beee"
      },
      "source": [
        "#Install Chatterbot Libarary\n",
        "!pip install chatterbot\n",
        "!pip install chatterbot_corpus"
      ],
      "execution_count": 1,
      "outputs": [
        {
          "output_type": "stream",
          "text": [
            "Collecting chatterbot\n",
            "\u001b[?25l  Downloading https://files.pythonhosted.org/packages/7c/21/85c2b114bd9dfabdd46ba58fc4519acdaed45d8c70898d40079e37a45e67/ChatterBot-1.0.8-py2.py3-none-any.whl (63kB)\n",
            "\r\u001b[K     |█████▏                          | 10kB 14.7MB/s eta 0:00:01\r\u001b[K     |██████████▎                     | 20kB 15.8MB/s eta 0:00:01\r\u001b[K     |███████████████▌                | 30kB 11.0MB/s eta 0:00:01\r\u001b[K     |████████████████████▋           | 40kB 9.3MB/s eta 0:00:01\r\u001b[K     |█████████████████████████▊      | 51kB 5.3MB/s eta 0:00:01\r\u001b[K     |███████████████████████████████ | 61kB 5.9MB/s eta 0:00:01\r\u001b[K     |████████████████████████████████| 71kB 4.0MB/s \n",
            "\u001b[?25hCollecting mathparse<0.2,>=0.1\n",
            "  Downloading https://files.pythonhosted.org/packages/c3/e5/4910fb85950cb960fcf3f5aabe1c8e55f5c9201788a1c1302b570a7e1f84/mathparse-0.1.2-py3-none-any.whl\n",
            "Collecting sqlalchemy<1.4,>=1.3\n",
            "\u001b[?25l  Downloading https://files.pythonhosted.org/packages/31/44/a86070dda790ce94cd7d9fb9281cd614c7d30850ed774ace9a84d0d5d491/SQLAlchemy-1.3.24-cp37-cp37m-manylinux2010_x86_64.whl (1.3MB)\n",
            "\u001b[K     |████████████████████████████████| 1.3MB 9.5MB/s \n",
            "\u001b[?25hRequirement already satisfied: python-dateutil<2.9,>=2.8 in /usr/local/lib/python3.7/dist-packages (from chatterbot) (2.8.1)\n",
            "Requirement already satisfied: pytz in /usr/local/lib/python3.7/dist-packages (from chatterbot) (2018.9)\n",
            "Requirement already satisfied: six>=1.5 in /usr/local/lib/python3.7/dist-packages (from python-dateutil<2.9,>=2.8->chatterbot) (1.15.0)\n",
            "Installing collected packages: mathparse, sqlalchemy, chatterbot\n",
            "  Found existing installation: SQLAlchemy 1.4.18\n",
            "    Uninstalling SQLAlchemy-1.4.18:\n",
            "      Successfully uninstalled SQLAlchemy-1.4.18\n",
            "Successfully installed chatterbot-1.0.8 mathparse-0.1.2 sqlalchemy-1.3.24\n",
            "Collecting chatterbot_corpus\n",
            "\u001b[?25l  Downloading https://files.pythonhosted.org/packages/ed/19/f8b41daf36fe4b0f43e283a820362ffdb2c1128600ab4ee187e84262fa4d/chatterbot_corpus-1.2.0-py2.py3-none-any.whl (117kB)\n",
            "\u001b[K     |████████████████████████████████| 122kB 5.1MB/s \n",
            "\u001b[?25hRequirement already satisfied: PyYAML<4.0,>=3.12 in /usr/local/lib/python3.7/dist-packages (from chatterbot_corpus) (3.13)\n",
            "Installing collected packages: chatterbot-corpus\n",
            "Successfully installed chatterbot-corpus-1.2.0\n"
          ],
          "name": "stdout"
        }
      ]
    },
    {
      "cell_type": "code",
      "metadata": {
        "id": "_ZqpeO2JAIqz"
      },
      "source": [
        "#Import Chatbot\n",
        "from chatterbot import ChatBot \n",
        "from chatterbot.trainers import ListTrainer"
      ],
      "execution_count": 2,
      "outputs": []
    },
    {
      "cell_type": "code",
      "metadata": {
        "id": "XnEj-pWSAo4b"
      },
      "source": [
        "#Membuat Model Chatbot\n",
        "chat_bot = ChatBot(name='Chatbot', read_only=True,\n",
        "                 logic_adapters=['chatterbot.logic.MathematicalEvaluation',\n",
        "                                 'chatterbot.logic.BestMatch'])"
      ],
      "execution_count": 3,
      "outputs": []
    },
    {
      "cell_type": "code",
      "metadata": {
        "colab": {
          "base_uri": "https://localhost:8080/"
        },
        "id": "b9F6F06jArrC",
        "outputId": "01f8f20c-c4f9-47e1-bbb6-5edb980f934e"
      },
      "source": [
        "#Melakukan Training Menggunakan Data Set Corpus\n",
        "from chatterbot.trainers import ChatterBotCorpusTrainer\n",
        "corpus_trainer = ChatterBotCorpusTrainer(chat_bot)\n",
        "corpus_trainer.train('chatterbot.corpus.indonesia')"
      ],
      "execution_count": 4,
      "outputs": [
        {
          "output_type": "stream",
          "text": [
            "Training conversations.yml: [####################] 100%\n",
            "Training greetings.yml: [####################] 100%\n",
            "Training trivia.yml: [####################] 100%\n"
          ],
          "name": "stdout"
        }
      ]
    },
    {
      "cell_type": "code",
      "metadata": {
        "colab": {
          "base_uri": "https://localhost:8080/"
        },
        "id": "Rttiue1CBFZT",
        "outputId": "6c4d8db7-5a6e-4b06-d57d-e499b73e0a88"
      },
      "source": [
        "#Melakukan Percakapan Chatbot\n",
        "\n",
        "print(chat_bot.get_response(\"Halo\"))\n",
        "print(chat_bot.get_response(\"Bagaimana kabar mu?\"))\n"
      ],
      "execution_count": 5,
      "outputs": [
        {
          "output_type": "stream",
          "text": [
            "Hai\n",
            "Kabar ku baik.\n"
          ],
          "name": "stdout"
        }
      ]
    }
  ]
}