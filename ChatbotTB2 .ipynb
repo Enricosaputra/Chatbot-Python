{
  "nbformat": 4,
  "nbformat_minor": 0,
  "metadata": {
    "colab": {
      "name": "ChatbotTB2.ipynb",
      "provenance": [],
      "collapsed_sections": []
    },
    "kernelspec": {
      "name": "python3",
      "display_name": "Python 3"
    },
    "language_info": {
      "name": "python"
    }
  },
  "cells": [
    {
      "cell_type": "markdown",
      "metadata": {
        "id": "YM_iLxeSH03r"
      },
      "source": [
        "#**Tugas Besar 2**\n",
        "#### Aldy Erviendri (41519010137)\n",
        "#### Enrico Saputra (41518010188)\n",
        "#### Rayvaldo Prawira Manik (41518210025)\n",
        "#------------------------------\n",
        "###Disini kami membuat chatbot dengan menggunakan data korpus oleh chatterbot \n",
        "\n"
      ]
    },
    {
      "cell_type": "code",
      "metadata": {
        "colab": {
          "base_uri": "https://localhost:8080/"
        },
        "id": "7VaalYpdABk1",
        "outputId": "577476f2-c839-44a9-f20b-29c3603ff975"
      },
      "source": [
        "#Install Chatterbot Libarary\n",
        "!pip install chatterbot\n",
        "!pip install chatterbot_corpus"
      ],
      "execution_count": null,
      "outputs": [
        {
          "output_type": "stream",
          "text": [
            "Requirement already satisfied: chatterbot in /usr/local/lib/python3.7/dist-packages (1.0.8)\n",
            "Requirement already satisfied: pytz in /usr/local/lib/python3.7/dist-packages (from chatterbot) (2018.9)\n",
            "Requirement already satisfied: mathparse<0.2,>=0.1 in /usr/local/lib/python3.7/dist-packages (from chatterbot) (0.1.2)\n",
            "Requirement already satisfied: sqlalchemy<1.4,>=1.3 in /usr/local/lib/python3.7/dist-packages (from chatterbot) (1.3.24)\n",
            "Requirement already satisfied: python-dateutil<2.9,>=2.8 in /usr/local/lib/python3.7/dist-packages (from chatterbot) (2.8.1)\n",
            "Requirement already satisfied: six>=1.5 in /usr/local/lib/python3.7/dist-packages (from python-dateutil<2.9,>=2.8->chatterbot) (1.15.0)\n",
            "Requirement already satisfied: chatterbot_corpus in /usr/local/lib/python3.7/dist-packages (1.2.0)\n",
            "Requirement already satisfied: PyYAML<4.0,>=3.12 in /usr/local/lib/python3.7/dist-packages (from chatterbot_corpus) (3.13)\n"
          ],
          "name": "stdout"
        }
      ]
    },
    {
      "cell_type": "code",
      "metadata": {
        "id": "_ZqpeO2JAIqz"
      },
      "source": [
        "#Import Chatbot\n",
        "from chatterbot import ChatBot \n",
        "from chatterbot.trainers import ListTrainer"
      ],
      "execution_count": null,
      "outputs": []
    },
    {
      "cell_type": "code",
      "metadata": {
        "id": "XnEj-pWSAo4b"
      },
      "source": [
        "#Membuat Model Chatbot\n",
        "chat_bot = ChatBot(name='Chatbot', read_only=True,\n",
        "                 logic_adapters=['chatterbot.logic.MathematicalEvaluation',\n",
        "                                 'chatterbot.logic.BestMatch'])"
      ],
      "execution_count": null,
      "outputs": []
    },
    {
      "cell_type": "code",
      "metadata": {
        "colab": {
          "base_uri": "https://localhost:8080/"
        },
        "id": "b9F6F06jArrC",
        "outputId": "d2873519-e627-4641-a099-585357468ba4"
      },
      "source": [
        "#Melakukan Training Menggunakan Data Set Corpus\n",
        "from chatterbot.trainers import ChatterBotCorpusTrainer\n",
        "corpus_trainer = ChatterBotCorpusTrainer(chat_bot)\n",
        "corpus_trainer.train('chatterbot.corpus.indonesia')"
      ],
      "execution_count": null,
      "outputs": [
        {
          "output_type": "stream",
          "text": [
            "Training conversations.yml: [####################] 100%\n",
            "Training greetings.yml: [####################] 100%\n",
            "Training trivia.yml: [####################] 100%\n"
          ],
          "name": "stdout"
        }
      ]
    },
    {
      "cell_type": "code",
      "metadata": {
        "colab": {
          "base_uri": "https://localhost:8080/"
        },
        "id": "Rttiue1CBFZT",
        "outputId": "769df99b-0b8a-4d14-cc08-b5c61e0e78a1"
      },
      "source": [
        "#Melakukan Percakapan Chatbot\n",
        "\n",
        "print(chat_bot.get_response(\"Halo\"))\n",
        "print(chat_bot.get_response(\"Bagaimana kabar mu?\"))\n"
      ],
      "execution_count": null,
      "outputs": [
        {
          "output_type": "stream",
          "text": [
            "Lalu kamu ini apa?\n",
            "Hai\n",
            "Kabar ku baik.\n"
          ],
          "name": "stdout"
        }
      ]
    }
  ]
}